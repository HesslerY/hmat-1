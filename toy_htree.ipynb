{
 "cells": [
  {
   "cell_type": "code",
   "execution_count": 1,
   "metadata": {
    "collapsed": true
   },
   "outputs": [],
   "source": [
    "from tt.maxvol import maxvol\n",
    "import numpy as np\n",
    "import scipy\n",
    "import scipy as sp\n",
    "\n",
    "from scipy import sparse\n",
    "from scipy import linalg\n",
    "from matplotlib import pyplot as plt\n",
    "\n",
    "from sklearn.neighbors import KDTree\n",
    "from scipy.sparse import coo_matrix, csr_matrix\n",
    "\n",
    "%matplotlib inline"
   ]
  },
  {
   "cell_type": "code",
   "execution_count": 2,
   "metadata": {
    "collapsed": true
   },
   "outputs": [],
   "source": [
    "def distance_matrix(block_size, format='coo'):\n",
    "    ex = np.ones(block_size)\n",
    "    T = sp.sparse.spdiags(np.vstack([ex, ex, ex]),\n",
    "                          [1, 0, -1], block_size, block_size, format=format)\n",
    "    return sp.sparse.kron(T, T, format=format)\n",
    "\n",
    "def hilbert_traverse(size):\n",
    "    x, y = np.mgrid[0:size, 0:size]\n",
    "    data = list(zip(x.ravel(), y.ravel()))\n",
    "    tree = KDTree(data, leaf_size=2)\n",
    "    return np.array(tree.idx_array)\n",
    "\n",
    "def conjugate(mat, permutation):\n",
    "    mat_type = type(mat)\n",
    "    mat_coo = sp.sparse.coo_matrix(mat)\n",
    "    idr = np.argsort(permutation)\n",
    "    mat_coo.row = permutation[mat_coo.row]\n",
    "    mat_coo.col = permutation[mat_coo.col]\n",
    "    return mat_type(mat_coo)\n",
    "\n",
    "def conjugate_by_blocks(A, permutation):\n",
    "    bs = A.shape[0] // permutation.size\n",
    "    perm = np.repeat(permutation, bs)*bs + np.tile(np.arange(bs), permutation.size)\n",
    "    A[:, :] = A[perm, :]\n",
    "    A[:, :] = A[:, perm]"
   ]
  },
  {
   "cell_type": "code",
   "execution_count": 3,
   "metadata": {
    "collapsed": true
   },
   "outputs": [],
   "source": [
    "M = 5\n",
    "R = 2**M\n",
    "N = R**2\n",
    "K = 32\n",
    "BS = (N//K)"
   ]
  },
  {
   "cell_type": "code",
   "execution_count": 4,
   "metadata": {
    "collapsed": false
   },
   "outputs": [
    {
     "data": {
      "text/plain": [
       "<matplotlib.lines.Line2D at 0x1080efed0>"
      ]
     },
     "execution_count": 4,
     "metadata": {},
     "output_type": "execute_result"
    },
    {
     "data": {
      "image/png": "[encoded data removed]",
      "text/plain": [
       "<matplotlib.figure.Figure at 0x10803b550>"
      ]
     },
     "metadata": {},
     "output_type": "display_data"
    }
   ],
   "source": [
    "mat = distance_matrix(BS)\n",
    "mat = conjugate(mat, hilbert_traverse(BS))\n",
    "plt.spy(mat, marker='.')"
   ]
  },
  {
   "cell_type": "code",
   "execution_count": 5,
   "metadata": {
    "collapsed": true
   },
   "outputs": [],
   "source": [
    "def indices_from_shape(shape):\n",
    "    return tuple((np.arange(dim) for dim in shape))\n",
    "\n",
    "def break_indices(indices):\n",
    "    m, n = indices[0].size, indices[1].size\n",
    "    return ((indices[0][:m//2], indices[1][:n//2]), (indices[0][:m//2], indices[1][n//2:])),\\\n",
    "            ((indices[0][m//2:], indices[1][:n//2]), (indices[0][m//2:], indices[1][n//2:]))\n",
    "\n",
    "def indices_unveil(indices):\n",
    "    np.vstack([np.repeat(indices[0], indices[1].size),\n",
    "               np.tile(indices[1], indices[0].size)]).T\n",
    "\n",
    "def csvd(a, r=None):\n",
    "    if r == None or r > min(a.shape):\n",
    "        r = min(a.shape)\n",
    "    u, s, v = np.linalg.svd(a, full_matrices=False)\n",
    "    return u[:, :r], s[:r], v[:r]"
   ]
  },
  {
   "cell_type": "code",
   "execution_count": 36,
   "metadata": {
    "collapsed": false
   },
   "outputs": [],
   "source": [
    "class htree_node(object):\n",
    "    def __init__(self, mat, pattern, indices, r=15, leaf_size=32):\n",
    "        self.indices = indices\n",
    "        self.low_rank = False\n",
    "        if len(indices[0]) < leaf_size or len(indices[1]) < leaf_size:\n",
    "            # block is small to partition\n",
    "            ix = np.ix_(indices[0], indices[1])\n",
    "            self.mat = mat[ix]\n",
    "            self.is_leaf = True\n",
    "            return\n",
    "        if (pattern[indices[0], :][:, indices[1]].nnz == 0):\n",
    "            ix = np.ix_(indices[0], indices[1])\n",
    "            #self.u = mat[ix]\n",
    "            u, s, v = csvd(mat[ix], r=r)\n",
    "            self.u = u\n",
    "            self.v = np.dot(np.diag(s), v)\n",
    "            self.low_rank = True\n",
    "            self.is_leaf = True\n",
    "            return\n",
    "        # we have non-leaf node\n",
    "        self.is_leaf = False\n",
    "        idxs = break_indices(self.indices)\n",
    "        self.nw = htree_node(mat, pattern, idxs[0][0], r=r)\n",
    "        self.ne = htree_node(mat, pattern, idxs[0][1], r=r)\n",
    "        self.sw = htree_node(mat, pattern, idxs[1][0], r=r)\n",
    "        self.se = htree_node(mat, pattern, idxs[1][1], r=r)\n",
    "\n",
    "    def full_block(self, mat):\n",
    "        if (self.is_leaf and self.low_rank):\n",
    "            ix = np.ix_(self.indices[0], self.indices[1])\n",
    "            mat[ix] = np.dot(self.u, self.v)\n",
    "            #mat[ix] = self.u\n",
    "        elif (self.is_leaf):\n",
    "            ix = np.ix_(self.indices[0], self.indices[1])\n",
    "            mat[ix] = self.mat\n",
    "        else:\n",
    "            self.nw.full_block(mat)\n",
    "            self.ne.full_block(mat)\n",
    "            self.sw.full_block(mat)\n",
    "            self.se.full_block(mat)\n",
    "    \n",
    "    def matvec_part(self, vec, result):\n",
    "        if (self.is_leaf and self.low_rank):\n",
    "            result[self.indices[0]] += np.dot(np.dot(self.u, self.v), vec[self.indices[1]])\n",
    "            #result[self.indices[1]] += np.dot(self.u, np.dot(self.v, vec[self.indices[1]]))\n",
    "        elif (self.is_leaf):\n",
    "            result[self.indices[0]] += np.dot(self.mat, vec[self.indices[1]])\n",
    "        else:\n",
    "            self.nw.matvec_part(vec, result)\n",
    "            self.ne.matvec_part(vec, result)\n",
    "            self.sw.matvec_part(vec, result)\n",
    "            self.se.matvec_part(vec, result)\n",
    "            \n",
    "    def count_params(self):\n",
    "        if (self.is_leaf and self.low_rank):\n",
    "            return self.u.size + self.v.size\n",
    "        elif (self.is_leaf):\n",
    "            return self.mat.size\n",
    "        else:\n",
    "            return self.nw.count_params() + \\\n",
    "                self.ne.count_params() + \\\n",
    "                self.sw.count_params() + \\\n",
    "                self.se.count_params()\n",
    "        \n",
    "class htree(object):\n",
    "    def __init__(self, mat, pattern, r=15, leaf_size=32):\n",
    "        self.leaf_size = leaf_size\n",
    "        self.pattern = pattern.copy()\n",
    "        self.shape = mat.shape\n",
    "        self.root = htree_node(mat,\n",
    "                               scipy.sparse.csr.csr_matrix(pattern),\n",
    "                               indices_from_shape(pattern.shape),\n",
    "                               r=r,\n",
    "                               leaf_size=leaf_size)\n",
    "    def full_matrix(self):\n",
    "        full_mat = np.zeros(self.shape)\n",
    "        self.root.full_block(full_mat)\n",
    "        return full_mat\n",
    "    \n",
    "    def count_params(self):\n",
    "        return self.root.count_params()\n",
    "    \n",
    "    def matvec(self, vec):\n",
    "        result = np.zeros_like(vec)\n",
    "        self.root.matvec_part(vec, result)\n",
    "        return result"
   ]
  },
  {
   "cell_type": "code",
   "execution_count": 10,
   "metadata": {
    "collapsed": true
   },
   "outputs": [],
   "source": [
    "def gen_mtx(n):\n",
    "    modulo_range = np.linspace(0, 1, n)\n",
    "    X, Y = np.meshgrid(modulo_range, modulo_range)\n",
    "    with np.errstate(divide='ignore', invalid='ignore'):\n",
    "        res = np.ones((n**2, n**2)) / np.abs(X.ravel()[:, np.newaxis] - Y.ravel()[np.newaxis, :])\n",
    "        res[res == np.inf] = 0\n",
    "        return res"
   ]
  },
  {
   "cell_type": "markdown",
   "metadata": {},
   "source": [
    "Тут руками выставлен $r=16$,  который даёт хорошее приближение"
   ]
  },
  {
   "cell_type": "code",
   "execution_count": 37,
   "metadata": {
    "collapsed": false
   },
   "outputs": [
    {
     "data": {
      "text/plain": [
       "2.8997114295081638e-15"
      ]
     },
     "execution_count": 37,
     "metadata": {},
     "output_type": "execute_result"
    }
   ],
   "source": [
    "A = gen_mtx(R)\n",
    "conjugate_by_blocks(A, hilbert_traverse(BS))\n",
    "ht = htree(A, mat, r=16)\n",
    "AA = ht.full_matrix()\n",
    "np.linalg.norm(A - AA) / np.linalg.norm(A)"
   ]
  },
  {
   "cell_type": "code",
   "execution_count": 12,
   "metadata": {
    "collapsed": false
   },
   "outputs": [
    {
     "data": {
      "text/plain": [
       "0.5078125"
      ]
     },
     "execution_count": 12,
     "metadata": {},
     "output_type": "execute_result"
    }
   ],
   "source": [
    "1. * ht.count_params() / A.size"
   ]
  },
  {
   "cell_type": "code",
   "execution_count": 33,
   "metadata": {
    "collapsed": true
   },
   "outputs": [],
   "source": [
    "v = np.random.random(A.shape[0])"
   ]
  },
  {
   "cell_type": "code",
   "execution_count": 43,
   "metadata": {
    "collapsed": false
   },
   "outputs": [
    {
     "data": {
      "text/plain": [
       "6.3539129528665324e-16"
      ]
     },
     "execution_count": 43,
     "metadata": {},
     "output_type": "execute_result"
    }
   ],
   "source": [
    "np.linalg.norm(ht.matvec(v) - np.dot(A, v)) / np.linalg.norm(np.dot(A, v))"
   ]
  },
  {
   "cell_type": "code",
   "execution_count": 39,
   "metadata": {
    "collapsed": false
   },
   "outputs": [
    {
     "data": {
      "text/plain": [
       "array([ 1923.78616668,  2442.25375888,  1923.78616668, ...,  2048.49638523,\n",
       "        2048.49638523,  2391.88000522])"
      ]
     },
     "execution_count": 39,
     "metadata": {},
     "output_type": "execute_result"
    }
   ],
   "source": []
  },
  {
   "cell_type": "code",
   "execution_count": null,
   "metadata": {
    "collapsed": true
   },
   "outputs": [],
   "source": []
  }
 ],
 "metadata": {
  "kernelspec": {
   "display_name": "Python 2",
   "language": "python",
   "name": "python2"
  },
  "language_info": {
   "codemirror_mode": {
    "name": "ipython",
    "version": 2
   },
   "file_extension": ".py",
   "mimetype": "text/x-python",
   "name": "python",
   "nbconvert_exporter": "python",
   "pygments_lexer": "ipython2",
   "version": "2.7.10"
  }
 },
 "nbformat": 4,
 "nbformat_minor": 0
}
