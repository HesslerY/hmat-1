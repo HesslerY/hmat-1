{
 "metadata": {
  "name": ""
 },
 "nbformat": 3,
 "nbformat_minor": 0,
 "worksheets": [
  {
   "cells": [
    {
     "cell_type": "code",
     "collapsed": false,
     "input": [
      "import numpy as np\n",
      "import numpy.linalg as nlin\n",
      "import tt\n",
      "from tt.maxvol import maxvol\n",
      "\n",
      "def cross(a, r, niters):\n",
      "    m = a.shape[0]\n",
      "    n = a.shape[1]\n",
      "    indj = np.sort(np.random.choice(n, r, replace = False))\n",
      "    \n",
      "    for i in range(niters):\n",
      "        C = a[:,indj]\n",
      "        indi = np.sort(maxvol(C))\n",
      "        R = a[indi, :]\n",
      "        indj = np.sort(maxvol(R.T))\n",
      "    \n",
      "    C = nlin.solve(C[indi, :].T, C.T).T \n",
      "    return np.dot(C, R)\n"
     ],
     "language": "python",
     "metadata": {},
     "outputs": [],
     "prompt_number": 3
    },
    {
     "cell_type": "code",
     "collapsed": false,
     "input": [
      "import numpy as np\n",
      "import tt\n",
      "from tt.maxvol import maxvol\n",
      "%matplotlib inline\n",
      "import matplotlib.pyplot as plt\n",
      "n = 256\n",
      "H = np.zeros((n, n))\n",
      "for i in xrange(n):\n",
      "    for j in xrange(n):\n",
      "        H[i, j] = 1.0 / (i + j + 1)\n",
      "u, s, v = np.linalg.svd(H)\n",
      "plt.semilogy(s)\n",
      "plt.show()"
     ],
     "language": "python",
     "metadata": {},
     "outputs": [
      {
       "metadata": {},
       "output_type": "display_data",
       "png": "[encoded data removed]",
       "text": [
        "<matplotlib.figure.Figure at 0x170e4d0>"
       ]
      }
     ],
     "prompt_number": 23
    },
    {
     "cell_type": "code",
     "collapsed": false,
     "input": [
      "for rank in [1, 5, 10, 15, 20]:\n",
      "    \n",
      "    er_skel = np.linalg.norm(H - cross(H, rank, 10))\n",
      "    \n",
      "    print 'Skeleton er:', er_skel"
     ],
     "language": "python",
     "metadata": {},
     "outputs": [
      {
       "output_type": "stream",
       "stream": "stdout",
       "text": [
        "Skeleton er: 1.62572489102\n",
        "Skeleton er: 0.0207114971432\n",
        "Skeleton er: 1.10859675762e-05\n",
        "Skeleton er:"
       ]
      },
      {
       "output_type": "stream",
       "stream": "stdout",
       "text": [
        " 1.09957797581e-09\n",
        "Skeleton er: 1.2916163334e-13\n"
       ]
      }
     ],
     "prompt_number": 24
    },
    {
     "cell_type": "code",
     "collapsed": false,
     "input": [],
     "language": "python",
     "metadata": {},
     "outputs": []
    }
   ],
   "metadata": {}
  }
 ]
}